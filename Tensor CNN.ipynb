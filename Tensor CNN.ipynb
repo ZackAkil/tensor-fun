{
 "cells": [
  {
   "cell_type": "code",
   "execution_count": 15,
   "metadata": {
    "collapsed": true
   },
   "outputs": [],
   "source": [
    "%matplotlib inline\n",
    "import tensorflow as tf\n",
    "from tensorflow.contrib.learn.python.learn.datasets.mnist import read_data_sets\n",
    "tf.set_random_seed(0)"
   ]
  },
  {
   "cell_type": "code",
   "execution_count": 41,
   "metadata": {
    "collapsed": true
   },
   "outputs": [],
   "source": [
    "import math"
   ]
  },
  {
   "cell_type": "code",
   "execution_count": 2,
   "metadata": {
    "collapsed": false
   },
   "outputs": [
    {
     "name": "stdout",
     "output_type": "stream",
     "text": [
      "Extracting data/train-images-idx3-ubyte.gz\n",
      "Extracting data/train-labels-idx1-ubyte.gz\n",
      "Extracting data/t10k-images-idx3-ubyte.gz\n",
      "Extracting data/t10k-labels-idx1-ubyte.gz\n"
     ]
    }
   ],
   "source": [
    "mnist = read_data_sets(\"data\", one_hot=True, reshape=False, validation_size=0)"
   ]
  },
  {
   "cell_type": "code",
   "execution_count": 3,
   "metadata": {
    "collapsed": true
   },
   "outputs": [],
   "source": [
    "X = tf.placeholder(tf.float32, [None, 28, 28, 1])"
   ]
  },
  {
   "cell_type": "code",
   "execution_count": 4,
   "metadata": {
    "collapsed": true
   },
   "outputs": [],
   "source": [
    "Y_ = tf.placeholder(tf.float32, [None, 10])"
   ]
  },
  {
   "cell_type": "markdown",
   "metadata": {},
   "source": [
    "# Standard nerural net setup"
   ]
  },
  {
   "cell_type": "code",
   "execution_count": 5,
   "metadata": {
    "collapsed": true
   },
   "outputs": [],
   "source": [
    "# W1 = tf.Variable(tf.truncated_normal([28*28, 500], stddev=0.1))\n",
    "# B1 = tf.Variable(tf.ones([500])/10)\n",
    "\n",
    "# W2 = tf.Variable(tf.truncated_normal([500, 500], stddev=0.1))\n",
    "# B2 = tf.Variable(tf.ones([500])/10)\n",
    "\n",
    "# W3 = tf.Variable(tf.truncated_normal([500, 500], stddev=0.1))\n",
    "# B3 = tf.Variable(tf.ones([500])/10)\n",
    "\n",
    "# W4 = tf.Variable(tf.truncated_normal([500, 500], stddev=0.1))\n",
    "# B4 = tf.Variable(tf.ones([500])/10)\n",
    "\n",
    "# W5 = tf.Variable(tf.truncated_normal([500, 10], stddev=0.1))\n",
    "# B5 = tf.Variable(tf.ones([10])/10)"
   ]
  },
  {
   "cell_type": "code",
   "execution_count": 6,
   "metadata": {
    "collapsed": true
   },
   "outputs": [],
   "source": [
    "# XX = tf.reshape(X, [-1, 784])"
   ]
  },
  {
   "cell_type": "code",
   "execution_count": 7,
   "metadata": {
    "collapsed": true
   },
   "outputs": [],
   "source": [
    "# Y1 = tf.nn.relu(tf.matmul(XX, W1) + B1)\n",
    "# Y2 = tf.nn.relu(tf.matmul(Y1, W2) + B2)\n",
    "# Y3 = tf.nn.relu(tf.matmul(Y2, W3) + B3)\n",
    "# Y4 = tf.nn.relu(tf.matmul(Y3, W4) + B4)\n",
    "# Ylogits = tf.matmul(Y4, W5) + B5\n",
    "# Y  = tf.nn.softmax(Ylogits)"
   ]
  },
  {
   "cell_type": "markdown",
   "metadata": {},
   "source": [
    "# CNN setup"
   ]
  },
  {
   "cell_type": "code",
   "execution_count": 29,
   "metadata": {
    "collapsed": true
   },
   "outputs": [],
   "source": [
    "W1 = tf.Variable(tf.truncated_normal([5, 5, 1, 6], stddev=0.1))\n",
    "B1 = tf.Variable(tf.ones([6])/10)\n",
    "\n",
    "W2 = tf.Variable(tf.truncated_normal([4, 4, 6, 12], stddev=0.1))\n",
    "B2 = tf.Variable(tf.ones([12])/10)\n",
    "\n",
    "W3 = tf.Variable(tf.truncated_normal([4, 4, 12, 24], stddev=0.1))\n",
    "B3 = tf.Variable(tf.ones([24])/10)\n",
    "\n",
    "W4 = tf.Variable(tf.truncated_normal([7*7*24, 200], stddev=0.1))\n",
    "B4 = tf.Variable(tf.ones([200])/10)\n",
    "\n",
    "W5 = tf.Variable(tf.truncated_normal([200, 10], stddev=0.1))\n",
    "B5 = tf.Variable(tf.ones([10])/10)"
   ]
  },
  {
   "cell_type": "code",
   "execution_count": 34,
   "metadata": {
    "collapsed": true
   },
   "outputs": [],
   "source": [
    "pkeep = tf.placeholder(tf.float32)\n",
    "\n",
    "stride = 1  # output is still 28x28\n",
    "Ycnv1 = tf.nn.conv2d(X, W1, strides=[1, stride, stride, 1], padding='SAME')\n",
    "Y1 = tf.nn.relu(Ycnv1 + B1)\n",
    "Y1d = tf.nn.dropout(Y1, pkeep)\n",
    "\n",
    "stride2 = 2  # output is now 14x14\n",
    "Ycnv2 = tf.nn.conv2d(Y1d, W2, strides=[1, stride2, stride2, 1], padding='SAME')\n",
    "Y2 = tf.nn.relu(Ycnv2 + B2)\n",
    "Y2d = tf.nn.dropout(Y2, pkeep)\n",
    "\n",
    "stride3 = 2  # output is now 14x14\n",
    "Ycnv3 = tf.nn.conv2d(Y2d, W3, strides=[1, stride3, stride3, 1], padding='SAME')\n",
    "Y3 = tf.nn.relu(Ycnv3 + B3)\n",
    "Y3d = tf.nn.dropout(Y3, pkeep)\n",
    "\n",
    "XXX = tf.reshape(Y3d, [-1, 7*7*24])\n",
    "\n",
    "Y4 = tf.nn.relu(tf.matmul(XXX, W4) + B4)\n",
    "Y4d = tf.nn.dropout(Y4, pkeep)\n",
    "\n",
    "Ylogits = tf.matmul(Y4d, W5) + B5\n",
    "Y  = tf.nn.softmax(Ylogits)"
   ]
  },
  {
   "cell_type": "markdown",
   "metadata": {},
   "source": [
    "# Cost and training"
   ]
  },
  {
   "cell_type": "code",
   "execution_count": 21,
   "metadata": {
    "collapsed": true
   },
   "outputs": [],
   "source": [
    "# cross_entropy = -tf.reduce_mean(Y_ * tf.log(Y)) * 1000.0 \n",
    "cross_entropy = tf.nn.softmax_cross_entropy_with_logits( logits=Ylogits,labels= Y_)\n",
    "cross_entropy = tf.reduce_mean(cross_entropy)*100"
   ]
  },
  {
   "cell_type": "code",
   "execution_count": 22,
   "metadata": {
    "collapsed": true
   },
   "outputs": [],
   "source": [
    "correct_prediction = tf.equal(tf.argmax(Y, 1), tf.argmax(Y_, 1))\n",
    "accuracy = tf.reduce_mean(tf.cast(correct_prediction, tf.float32))"
   ]
  },
  {
   "cell_type": "code",
   "execution_count": 38,
   "metadata": {
    "collapsed": true
   },
   "outputs": [],
   "source": [
    "lrate = tf.placeholder(tf.float32)\n",
    "train_step = tf.train.AdamOptimizer(lrate).minimize(cross_entropy)"
   ]
  },
  {
   "cell_type": "code",
   "execution_count": 50,
   "metadata": {
    "collapsed": true
   },
   "outputs": [],
   "source": [
    "init = tf.global_variables_initializer()\n",
    "sess = tf.Session()\n",
    "sess.run(init)"
   ]
  },
  {
   "cell_type": "code",
   "execution_count": 55,
   "metadata": {
    "collapsed": true
   },
   "outputs": [],
   "source": [
    "lrmin = 0.0001\n",
    "lrmax = 0.005\n",
    "\n",
    "def training_step(i, update_test_data, update_train_data):\n",
    "\n",
    "    # training on batches of 100 images with 100 labels\n",
    "    batch_X, batch_Y = mnist.train.next_batch(100)\n",
    "\n",
    "    if update_train_data:\n",
    "        a, c = sess.run([accuracy, cross_entropy], feed_dict={X: batch_X, Y_: batch_Y, pkeep:1.0})\n",
    "        print(str(i) + \": accuracy:\" + str(a) + \" loss: \" + str(c))\n",
    "        train_score_log.append((i,a))\n",
    "    if update_test_data:\n",
    "        a, c = sess.run([accuracy, cross_entropy], feed_dict={X: mnist.test.images, Y_: mnist.test.labels, pkeep:1.0})\n",
    "        print(str(i) + \": ********* epoch \" + str(i*100//mnist.train.images.shape[0]+1) + \" ********* test accuracy:\" + str(a) + \" test loss: \" + str(c))\n",
    "        test_score_log.append( (i,a) )\n",
    "    \n",
    "    # learning rate decay\n",
    "    lr = lrmin+(lrmax-lrmin)*math.exp(-i/2000)\n",
    "        \n",
    "    # the backpropagation training step\n",
    "    sess.run(train_step, feed_dict={X: batch_X, Y_: batch_Y, pkeep:0.75, lrate:lr})"
   ]
  },
  {
   "cell_type": "code",
   "execution_count": null,
   "metadata": {
    "collapsed": false,
    "scrolled": true
   },
   "outputs": [
    {
     "name": "stdout",
     "output_type": "stream",
     "text": [
      "0: accuracy:1.0 loss: 0.173621\n",
      "0: ********* epoch 1 ********* test accuracy:0.9901 test loss: 3.96691\n",
      "10: accuracy:1.0 loss: 0.119568\n",
      "20: accuracy:0.97 loss: 5.3204\n",
      "30: accuracy:0.98 loss: 3.26325\n",
      "40: accuracy:0.96 loss: 12.7665\n",
      "50: accuracy:0.94 loss: 15.5917\n",
      "50: ********* epoch 1 ********* test accuracy:0.9697 test loss: 11.1539\n",
      "60: accuracy:0.98 loss: 6.64945\n",
      "70: accuracy:0.97 loss: 9.02603\n",
      "80: accuracy:0.98 loss: 6.25045\n",
      "90: accuracy:0.98 loss: 4.71541\n",
      "100: accuracy:0.96 loss: 16.5168\n",
      "100: ********* epoch 1 ********* test accuracy:0.9678 test loss: 10.4405\n",
      "110: accuracy:0.99 loss: 13.0791\n",
      "120: accuracy:0.97 loss: 5.09352\n",
      "130: accuracy:0.97 loss: 7.03501\n",
      "140: accuracy:0.97 loss: 19.0122\n",
      "150: accuracy:0.98 loss: 7.14376\n",
      "150: ********* epoch 1 ********* test accuracy:0.9828 test loss: 6.35217\n",
      "160: accuracy:0.97 loss: 8.31121\n",
      "170: accuracy:1.0 loss: 0.943951\n",
      "180: accuracy:0.99 loss: 3.1721\n",
      "190: accuracy:0.99 loss: 3.33059\n",
      "200: accuracy:0.95 loss: 14.1117\n",
      "200: ********* epoch 1 ********* test accuracy:0.9797 test loss: 6.48705\n",
      "210: accuracy:0.96 loss: 12.5977\n",
      "220: accuracy:0.97 loss: 5.49467\n",
      "230: accuracy:0.97 loss: 25.0482\n",
      "240: accuracy:0.99 loss: 4.16953\n",
      "250: accuracy:0.97 loss: 11.2733\n",
      "250: ********* epoch 1 ********* test accuracy:0.9786 test loss: 6.5981\n",
      "260: accuracy:0.97 loss: 5.25761\n",
      "270: accuracy:0.97 loss: 7.93753\n",
      "280: accuracy:1.0 loss: 0.857918\n",
      "290: accuracy:1.0 loss: 0.334878\n",
      "300: accuracy:0.99 loss: 1.23476\n",
      "300: ********* epoch 1 ********* test accuracy:0.98 test loss: 6.85639\n",
      "310: accuracy:0.99 loss: 2.88157\n",
      "320: accuracy:0.97 loss: 6.03445\n",
      "330: accuracy:0.97 loss: 12.4076\n",
      "340: accuracy:0.97 loss: 6.74495\n",
      "350: accuracy:0.98 loss: 7.89407\n",
      "350: ********* epoch 1 ********* test accuracy:0.9796 test loss: 6.1522\n",
      "360: accuracy:0.98 loss: 3.34637\n",
      "370: accuracy:1.0 loss: 1.0109\n",
      "380: accuracy:0.98 loss: 3.81879\n",
      "390: accuracy:0.99 loss: 1.51123\n",
      "400: accuracy:0.97 loss: 3.73151\n",
      "400: ********* epoch 1 ********* test accuracy:0.9826 test loss: 5.85566\n",
      "410: accuracy:1.0 loss: 1.31818\n",
      "420: accuracy:0.99 loss: 2.31414\n",
      "430: accuracy:0.99 loss: 5.37583\n",
      "440: accuracy:1.0 loss: 0.471241\n",
      "450: accuracy:0.97 loss: 4.72352\n",
      "450: ********* epoch 1 ********* test accuracy:0.9823 test loss: 6.37241\n",
      "460: accuracy:0.99 loss: 1.57057\n",
      "470: accuracy:1.0 loss: 0.58175\n",
      "480: accuracy:0.96 loss: 13.9942\n",
      "490: accuracy:1.0 loss: 0.986959\n",
      "500: accuracy:1.0 loss: 0.755706\n",
      "500: ********* epoch 1 ********* test accuracy:0.9848 test loss: 4.6634\n",
      "510: accuracy:0.99 loss: 2.60839\n",
      "520: accuracy:0.99 loss: 1.87959\n",
      "530: accuracy:1.0 loss: 1.17377\n",
      "540: accuracy:1.0 loss: 0.861739\n",
      "550: accuracy:0.99 loss: 3.43596\n",
      "550: ********* epoch 1 ********* test accuracy:0.9852 test loss: 4.64398\n",
      "560: accuracy:0.97 loss: 8.00598\n",
      "570: accuracy:0.98 loss: 3.18347\n",
      "580: accuracy:0.99 loss: 3.38209\n",
      "590: accuracy:0.99 loss: 3.11213\n",
      "600: accuracy:1.0 loss: 1.06376\n",
      "600: ********* epoch 2 ********* test accuracy:0.9833 test loss: 4.90297\n",
      "610: accuracy:0.99 loss: 1.86948\n",
      "620: accuracy:0.99 loss: 1.92943\n",
      "630: accuracy:0.98 loss: 5.00802\n",
      "640: accuracy:0.98 loss: 3.43624\n",
      "650: accuracy:0.99 loss: 3.80004\n",
      "650: ********* epoch 2 ********* test accuracy:0.9845 test loss: 5.09962\n",
      "660: accuracy:1.0 loss: 1.16926\n",
      "670: accuracy:1.0 loss: 0.212274\n",
      "680: accuracy:0.97 loss: 3.89444\n",
      "690: accuracy:0.99 loss: 3.60493\n",
      "700: accuracy:1.0 loss: 1.10414\n",
      "700: ********* epoch 2 ********* test accuracy:0.9858 test loss: 4.47829\n",
      "710: accuracy:0.99 loss: 2.54059\n",
      "720: accuracy:1.0 loss: 0.599172\n",
      "730: accuracy:1.0 loss: 0.274952\n",
      "740: accuracy:0.99 loss: 2.00342\n",
      "750: accuracy:1.0 loss: 1.22542\n",
      "750: ********* epoch 2 ********* test accuracy:0.986 test loss: 4.1382\n",
      "760: accuracy:0.99 loss: 2.21828\n",
      "770: accuracy:0.98 loss: 10.4701\n",
      "780: accuracy:1.0 loss: 0.70189\n",
      "790: accuracy:0.99 loss: 1.11099\n",
      "800: accuracy:0.99 loss: 3.29421\n",
      "800: ********* epoch 2 ********* test accuracy:0.9871 test loss: 4.05347\n",
      "810: accuracy:0.97 loss: 6.63421\n",
      "820: accuracy:1.0 loss: 1.3885\n",
      "830: accuracy:1.0 loss: 0.336092\n",
      "840: accuracy:0.99 loss: 1.53309\n",
      "850: accuracy:0.99 loss: 2.81196\n",
      "850: ********* epoch 2 ********* test accuracy:0.9868 test loss: 4.06648\n",
      "860: accuracy:1.0 loss: 1.34925\n",
      "870: accuracy:0.99 loss: 1.98073\n",
      "880: accuracy:1.0 loss: 0.656041\n",
      "890: accuracy:0.99 loss: 1.42103\n",
      "900: accuracy:0.99 loss: 4.3791\n",
      "900: ********* epoch 2 ********* test accuracy:0.9889 test loss: 3.57981\n",
      "910: accuracy:1.0 loss: 1.0879\n",
      "920: accuracy:0.97 loss: 4.45351\n",
      "930: accuracy:0.97 loss: 6.99257\n",
      "940: accuracy:0.99 loss: 1.85836\n",
      "950: accuracy:1.0 loss: 0.124418\n"
     ]
    }
   ],
   "source": [
    "train_score_log = []\n",
    "test_score_log = []\n",
    "for i in range(4000+1): training_step(i, i % 50 == 0, i % 10 == 0)"
   ]
  },
  {
   "cell_type": "code",
   "execution_count": 56,
   "metadata": {
    "collapsed": false
   },
   "outputs": [
    {
     "data": {
      "image/png": "[encoded data removed]",
      "text/plain": [
       "<matplotlib.figure.Figure at 0x11946fb38>"
      ]
     },
     "metadata": {},
     "output_type": "display_data"
    }
   ],
   "source": [
    "import matplotlib.pyplot as plt\n",
    "\n",
    "plt.plot(list(zip(*test_score_log))[0],list(zip(*test_score_log))[1])\n",
    "plt.plot(list(zip(*train_score_log))[0],list(zip(*train_score_log))[1])\n",
    "plt.ylim(0.98,1)\n",
    "plt.show()"
   ]
  },
  {
   "cell_type": "code",
   "execution_count": 53,
   "metadata": {
    "collapsed": false
   },
   "outputs": [
    {
     "data": {
      "text/plain": [
       "0.99010003"
      ]
     },
     "execution_count": 53,
     "metadata": {},
     "output_type": "execute_result"
    }
   ],
   "source": [
    "sorted(list(zip(*test_score_log))[1])[-1]"
   ]
  },
  {
   "cell_type": "code",
   "execution_count": null,
   "metadata": {
    "collapsed": true
   },
   "outputs": [],
   "source": []
  }
 ],
 "metadata": {
  "anaconda-cloud": {},
  "kernelspec": {
   "display_name": "Python 3",
   "language": "python",
   "name": "python3"
  },
  "language_info": {
   "codemirror_mode": {
    "name": "ipython",
    "version": 3
   },
   "file_extension": ".py",
   "mimetype": "text/x-python",
   "name": "python",
   "nbconvert_exporter": "python",
   "pygments_lexer": "ipython3",
   "version": "3.5.2"
  }
 },
 "nbformat": 4,
 "nbformat_minor": 1
}
