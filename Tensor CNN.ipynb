{
 "cells": [
  {
   "cell_type": "code",
   "execution_count": 15,
   "metadata": {
    "collapsed": true
   },
   "outputs": [],
   "source": [
    "%matplotlib inline\n",
    "import tensorflow as tf\n",
    "from tensorflow.contrib.learn.python.learn.datasets.mnist import read_data_sets\n",
    "tf.set_random_seed(0)"
   ]
  },
  {
   "cell_type": "code",
   "execution_count": 75,
   "metadata": {
    "collapsed": true
   },
   "outputs": [],
   "source": [
    "import matplotlib.pyplot as plt\n",
    "import math"
   ]
  },
  {
   "cell_type": "code",
   "execution_count": 2,
   "metadata": {
    "collapsed": false
   },
   "outputs": [
    {
     "name": "stdout",
     "output_type": "stream",
     "text": [
      "Extracting data/train-images-idx3-ubyte.gz\n",
      "Extracting data/train-labels-idx1-ubyte.gz\n",
      "Extracting data/t10k-images-idx3-ubyte.gz\n",
      "Extracting data/t10k-labels-idx1-ubyte.gz\n"
     ]
    }
   ],
   "source": [
    "mnist = read_data_sets(\"data\", one_hot=True, reshape=False, validation_size=0)"
   ]
  },
  {
   "cell_type": "code",
   "execution_count": 3,
   "metadata": {
    "collapsed": true
   },
   "outputs": [],
   "source": [
    "X = tf.placeholder(tf.float32, [None, 28, 28, 1])"
   ]
  },
  {
   "cell_type": "code",
   "execution_count": 4,
   "metadata": {
    "collapsed": true
   },
   "outputs": [],
   "source": [
    "Y_ = tf.placeholder(tf.float32, [None, 10])"
   ]
  },
  {
   "cell_type": "markdown",
   "metadata": {},
   "source": [
    "# Standard nerural net setup"
   ]
  },
  {
   "cell_type": "code",
   "execution_count": 5,
   "metadata": {
    "collapsed": true
   },
   "outputs": [],
   "source": [
    "# W1 = tf.Variable(tf.truncated_normal([28*28, 500], stddev=0.1))\n",
    "# B1 = tf.Variable(tf.ones([500])/10)\n",
    "\n",
    "# W2 = tf.Variable(tf.truncated_normal([500, 500], stddev=0.1))\n",
    "# B2 = tf.Variable(tf.ones([500])/10)\n",
    "\n",
    "# W3 = tf.Variable(tf.truncated_normal([500, 500], stddev=0.1))\n",
    "# B3 = tf.Variable(tf.ones([500])/10)\n",
    "\n",
    "# W4 = tf.Variable(tf.truncated_normal([500, 500], stddev=0.1))\n",
    "# B4 = tf.Variable(tf.ones([500])/10)\n",
    "\n",
    "# W5 = tf.Variable(tf.truncated_normal([500, 10], stddev=0.1))\n",
    "# B5 = tf.Variable(tf.ones([10])/10)"
   ]
  },
  {
   "cell_type": "code",
   "execution_count": 6,
   "metadata": {
    "collapsed": true
   },
   "outputs": [],
   "source": [
    "# XX = tf.reshape(X, [-1, 784])"
   ]
  },
  {
   "cell_type": "code",
   "execution_count": 7,
   "metadata": {
    "collapsed": true
   },
   "outputs": [],
   "source": [
    "# Y1 = tf.nn.relu(tf.matmul(XX, W1) + B1)\n",
    "# Y2 = tf.nn.relu(tf.matmul(Y1, W2) + B2)\n",
    "# Y3 = tf.nn.relu(tf.matmul(Y2, W3) + B3)\n",
    "# Y4 = tf.nn.relu(tf.matmul(Y3, W4) + B4)\n",
    "# Ylogits = tf.matmul(Y4, W5) + B5\n",
    "# Y  = tf.nn.softmax(Ylogits)"
   ]
  },
  {
   "cell_type": "markdown",
   "metadata": {},
   "source": [
    "# CNN setup"
   ]
  },
  {
   "cell_type": "code",
   "execution_count": 65,
   "metadata": {
    "collapsed": true
   },
   "outputs": [],
   "source": [
    "W1 = tf.Variable(tf.truncated_normal([5, 5, 1, 6], stddev=0.1))\n",
    "B1 = tf.Variable(tf.ones([6])/10)\n",
    "\n",
    "W2 = tf.Variable(tf.truncated_normal([4, 4, 6, 12], stddev=0.1))\n",
    "B2 = tf.Variable(tf.ones([12])/10)\n",
    "\n",
    "W3 = tf.Variable(tf.truncated_normal([4, 4, 12, 24], stddev=0.1))\n",
    "B3 = tf.Variable(tf.ones([24])/10)\n",
    "\n",
    "W4 = tf.Variable(tf.truncated_normal([7*7*24, 200], stddev=0.1))\n",
    "B4 = tf.Variable(tf.ones([200])/10)\n",
    "\n",
    "W5 = tf.Variable(tf.truncated_normal([200, 10], stddev=0.1))\n",
    "B5 = tf.Variable(tf.ones([10])/10)"
   ]
  },
  {
   "cell_type": "code",
   "execution_count": 66,
   "metadata": {
    "collapsed": true
   },
   "outputs": [],
   "source": [
    "pkeep = tf.placeholder(tf.float32)\n",
    "\n",
    "stride = 1  # output is still 28x28\n",
    "Ycnv1 = tf.nn.conv2d(X, W1, strides=[1, stride, stride, 1], padding='SAME')\n",
    "Y1 = tf.nn.relu(Ycnv1 + B1)\n",
    "Y1d = tf.nn.dropout(Y1, pkeep)\n",
    "\n",
    "stride2 = 2  # output is now 14x14\n",
    "Ycnv2 = tf.nn.conv2d(Y1, W2, strides=[1, stride2, stride2, 1], padding='SAME')\n",
    "Y2 = tf.nn.relu(Ycnv2 + B2)\n",
    "Y2d = tf.nn.dropout(Y2, pkeep)\n",
    "\n",
    "stride3 = 2  # output is now 14x14\n",
    "Ycnv3 = tf.nn.conv2d(Y2, W3, strides=[1, stride3, stride3, 1], padding='SAME')\n",
    "Y3 = tf.nn.relu(Ycnv3 + B3)\n",
    "Y3d = tf.nn.dropout(Y3, pkeep)\n",
    "\n",
    "XXX = tf.reshape(Y3, [-1, 7*7*24])\n",
    "\n",
    "Y4 = tf.nn.relu(tf.matmul(XXX, W4) + B4)\n",
    "Y4d = tf.nn.dropout(Y4, pkeep)\n",
    "\n",
    "Ylogits = tf.matmul(Y4d, W5) + B5\n",
    "Y  = tf.nn.softmax(Ylogits)"
   ]
  },
  {
   "cell_type": "markdown",
   "metadata": {},
   "source": [
    "# Cost and training"
   ]
  },
  {
   "cell_type": "code",
   "execution_count": 67,
   "metadata": {
    "collapsed": true
   },
   "outputs": [],
   "source": [
    "# cross_entropy = -tf.reduce_mean(Y_ * tf.log(Y)) * 1000.0 \n",
    "cross_entropy = tf.nn.softmax_cross_entropy_with_logits( logits=Ylogits,labels= Y_)\n",
    "cross_entropy = tf.reduce_mean(cross_entropy)*100"
   ]
  },
  {
   "cell_type": "code",
   "execution_count": 68,
   "metadata": {
    "collapsed": true
   },
   "outputs": [],
   "source": [
    "correct_prediction = tf.equal(tf.argmax(Y, 1), tf.argmax(Y_, 1))\n",
    "accuracy = tf.reduce_mean(tf.cast(correct_prediction, tf.float32))"
   ]
  },
  {
   "cell_type": "code",
   "execution_count": 69,
   "metadata": {
    "collapsed": true
   },
   "outputs": [],
   "source": [
    "lrate = tf.placeholder(tf.float32)\n",
    "train_step = tf.train.AdamOptimizer(lrate).minimize(cross_entropy)"
   ]
  },
  {
   "cell_type": "code",
   "execution_count": 70,
   "metadata": {
    "collapsed": true
   },
   "outputs": [],
   "source": [
    "init = tf.global_variables_initializer()\n",
    "sess = tf.Session()\n",
    "sess.run(init)"
   ]
  },
  {
   "cell_type": "code",
   "execution_count": 76,
   "metadata": {
    "collapsed": true
   },
   "outputs": [],
   "source": [
    "lrmin = 0.0001\n",
    "lrmax = 0.003\n",
    "\n",
    "def training_step(i, update_test_data, update_train_data):\n",
    "\n",
    "    # training on batches of 100 images with 100 labels\n",
    "    batch_X, batch_Y = mnist.train.next_batch(100)\n",
    "\n",
    "    if update_train_data:\n",
    "        a, c = sess.run([accuracy, cross_entropy], feed_dict={X: batch_X, Y_: batch_Y, pkeep:1.0})\n",
    "        print(str(i) + \": accuracy:\" + str(a) + \" loss: \" + str(c))\n",
    "        train_score_log.append((i,a))\n",
    "    if update_test_data:\n",
    "        a, c = sess.run([accuracy, cross_entropy], feed_dict={X: mnist.test.images, Y_: mnist.test.labels, pkeep:1.0})\n",
    "        print(str(i) + \": ********* epoch \" + str(i*100//mnist.train.images.shape[0]+1) + \" ********* test accuracy:\" + str(a) + \" test loss: \" + str(c))\n",
    "        test_score_log.append( (i,a) )\n",
    "    \n",
    "    # learning rate decay\n",
    "    lr = lrmin+(lrmax-lrmin)*math.exp(-i/4000)\n",
    "        \n",
    "    # the backpropagation training step\n",
    "    sess.run(train_step, feed_dict={X: batch_X, Y_: batch_Y, pkeep:0.75, lrate:lr})"
   ]
  },
  {
   "cell_type": "code",
   "execution_count": null,
   "metadata": {
    "collapsed": true
   },
   "outputs": [],
   "source": [
    "train_score_log = []\n",
    "test_score_log = []"
   ]
  },
  {
   "cell_type": "code",
   "execution_count": null,
   "metadata": {
    "collapsed": false,
    "scrolled": true
   },
   "outputs": [
    {
     "name": "stdout",
     "output_type": "stream",
     "text": [
      "4000: accuracy:1.0 loss: 0.00328583\n",
      "4000: ********* epoch 7 ********* test accuracy:0.9911 test loss: 4.51701\n",
      "4010: accuracy:1.0 loss: 0.000955417\n",
      "4020: accuracy:1.0 loss: 0.0365593\n",
      "4030: accuracy:1.0 loss: 6.67571e-06\n",
      "4040: accuracy:1.0 loss: 0.000274032\n",
      "4050: accuracy:1.0 loss: 0.00177353\n",
      "4050: ********* epoch 7 ********* test accuracy:0.9906 test loss: 4.89443\n",
      "4060: accuracy:1.0 loss: 0.0190895\n",
      "4070: accuracy:1.0 loss: 0.0134299\n",
      "4080: accuracy:1.0 loss: 0.00851619\n",
      "4090: accuracy:0.99 loss: 1.85735\n",
      "4100: accuracy:1.0 loss: 0.221484\n",
      "4100: ********* epoch 7 ********* test accuracy:0.9908 test loss: 4.55488\n",
      "4110: accuracy:1.0 loss: 0.0164696\n",
      "4120: accuracy:1.0 loss: 0.0253809\n",
      "4130: accuracy:1.0 loss: 0.000358081\n",
      "4140: accuracy:1.0 loss: 0.049333\n",
      "4150: accuracy:1.0 loss: 0.00275756\n",
      "4150: ********* epoch 7 ********* test accuracy:0.9896 test loss: 5.30621\n",
      "4160: accuracy:1.0 loss: 0.0282388\n",
      "4170: accuracy:1.0 loss: 0.000391225\n",
      "4180: accuracy:1.0 loss: 0.305573\n",
      "4190: accuracy:0.99 loss: 0.996249\n",
      "4200: accuracy:1.0 loss: 0.0102533\n",
      "4200: ********* epoch 8 ********* test accuracy:0.9906 test loss: 4.69496\n",
      "4210: accuracy:1.0 loss: 0.339185\n",
      "4220: accuracy:1.0 loss: 0.0165292\n",
      "4230: accuracy:1.0 loss: 0.000617585\n",
      "4240: accuracy:1.0 loss: 0.174225\n",
      "4250: accuracy:1.0 loss: 0.0511347\n",
      "4250: ********* epoch 8 ********* test accuracy:0.9909 test loss: 4.90487\n",
      "4260: accuracy:1.0 loss: 0.00443583\n",
      "4270: accuracy:1.0 loss: 0.00437925\n",
      "4280: accuracy:1.0 loss: 0.00293494\n",
      "4290: accuracy:1.0 loss: 0.00246706\n",
      "4300: accuracy:1.0 loss: 0.0469939\n",
      "4300: ********* epoch 8 ********* test accuracy:0.9913 test loss: 5.07644\n",
      "4310: accuracy:1.0 loss: 0.0037863\n",
      "4320: accuracy:1.0 loss: 0.0080092\n",
      "4330: accuracy:1.0 loss: 0.0207944\n",
      "4340: accuracy:1.0 loss: 0.00135063\n",
      "4350: accuracy:1.0 loss: 0.0249665\n",
      "4350: ********* epoch 8 ********* test accuracy:0.9919 test loss: 5.16306\n",
      "4360: accuracy:1.0 loss: 0.0965118\n",
      "4370: accuracy:1.0 loss: 0.0268686\n",
      "4380: accuracy:1.0 loss: 0.126048\n",
      "4390: accuracy:1.0 loss: 0.0491634\n",
      "4400: accuracy:1.0 loss: 0.000206581\n",
      "4400: ********* epoch 8 ********* test accuracy:0.9907 test loss: 5.11847\n",
      "4410: accuracy:1.0 loss: 0.00522642\n",
      "4420: accuracy:1.0 loss: 0.0691429\n",
      "4430: accuracy:1.0 loss: 0.125191\n",
      "4440: accuracy:1.0 loss: 0.00673309\n",
      "4450: accuracy:1.0 loss: 0.00920432\n",
      "4450: ********* epoch 8 ********* test accuracy:0.9908 test loss: 5.17608\n",
      "4460: accuracy:1.0 loss: 0.0834882\n",
      "4470: accuracy:1.0 loss: 0.168901\n",
      "4480: accuracy:1.0 loss: 0.000835135\n",
      "4490: accuracy:1.0 loss: 0.341781\n",
      "4500: accuracy:1.0 loss: 0.0837903\n",
      "4500: ********* epoch 8 ********* test accuracy:0.9907 test loss: 5.28666\n",
      "4510: accuracy:1.0 loss: 0.0041692\n",
      "4520: accuracy:1.0 loss: 0.000231491\n",
      "4530: accuracy:1.0 loss: 0.000971308\n",
      "4540: accuracy:1.0 loss: 0.000991913\n",
      "4550: accuracy:1.0 loss: 0.00167614\n",
      "4550: ********* epoch 8 ********* test accuracy:0.9903 test loss: 5.57593\n",
      "4560: accuracy:1.0 loss: 0.000313975\n",
      "4570: accuracy:1.0 loss: 0.0122741\n",
      "4580: accuracy:1.0 loss: 0.41495\n",
      "4590: accuracy:0.99 loss: 0.965003\n",
      "4600: accuracy:1.0 loss: 0.000654072\n",
      "4600: ********* epoch 8 ********* test accuracy:0.9906 test loss: 5.21078\n",
      "4610: accuracy:1.0 loss: 0.0191969\n",
      "4620: accuracy:1.0 loss: 0.0114256\n",
      "4630: accuracy:1.0 loss: 0.000638794\n",
      "4640: accuracy:1.0 loss: 0.00301132\n",
      "4650: accuracy:0.99 loss: 8.27847\n",
      "4650: ********* epoch 8 ********* test accuracy:0.9908 test loss: 5.60069\n",
      "4660: accuracy:1.0 loss: 0.0105141\n",
      "4670: accuracy:1.0 loss: 0.144093\n",
      "4680: accuracy:1.0 loss: 0.00601863\n",
      "4690: accuracy:1.0 loss: 0.0149177\n",
      "4700: accuracy:1.0 loss: 0.0203653\n",
      "4700: ********* epoch 8 ********* test accuracy:0.9898 test loss: 5.33025\n",
      "4710: accuracy:1.0 loss: 0.00107191\n",
      "4720: accuracy:1.0 loss: 0.000744192\n",
      "4730: accuracy:1.0 loss: 0.195586\n",
      "4740: accuracy:1.0 loss: 9.96577e-05\n",
      "4750: accuracy:1.0 loss: 0.00102158\n",
      "4750: ********* epoch 8 ********* test accuracy:0.9906 test loss: 5.33943\n",
      "4760: accuracy:1.0 loss: 0.000235786\n",
      "4770: accuracy:1.0 loss: 0.00421669\n",
      "4780: accuracy:1.0 loss: 0.00124599\n",
      "4790: accuracy:1.0 loss: 0.000969792\n",
      "4800: accuracy:1.0 loss: 8.03463e-05\n",
      "4800: ********* epoch 9 ********* test accuracy:0.9906 test loss: 5.02336\n",
      "4810: accuracy:1.0 loss: 0.00869278\n",
      "4820: accuracy:1.0 loss: 0.00378128\n",
      "4830: accuracy:1.0 loss: 0.000528737\n",
      "4840: accuracy:1.0 loss: 0.000680285\n",
      "4850: accuracy:1.0 loss: 0.00151678\n",
      "4850: ********* epoch 9 ********* test accuracy:0.9911 test loss: 5.21237\n",
      "4860: accuracy:1.0 loss: 0.000423737\n",
      "4870: accuracy:1.0 loss: 0.00798701\n",
      "4880: accuracy:1.0 loss: 0.004391\n",
      "4890: accuracy:1.0 loss: 0.00444942\n",
      "4900: accuracy:1.0 loss: 0.000821072\n",
      "4900: ********* epoch 9 ********* test accuracy:0.9909 test loss: 5.29488\n",
      "4910: accuracy:1.0 loss: 0.000447961\n",
      "4920: accuracy:1.0 loss: 0.00798185\n",
      "4930: accuracy:1.0 loss: 0.0031814\n",
      "4940: accuracy:1.0 loss: 0.00376499\n",
      "4950: accuracy:1.0 loss: 0.0188617\n",
      "4950: ********* epoch 9 ********* test accuracy:0.991 test loss: 4.96137\n",
      "4960: accuracy:1.0 loss: 0.0127301\n",
      "4970: accuracy:1.0 loss: 0.00402585\n",
      "4980: accuracy:1.0 loss: 0.00997602\n",
      "4990: accuracy:1.0 loss: 0.000673768\n",
      "5000: accuracy:1.0 loss: 0.000137679\n",
      "5000: ********* epoch 9 ********* test accuracy:0.9908 test loss: 5.17785\n",
      "5010: accuracy:1.0 loss: 0.00118211\n",
      "5020: accuracy:1.0 loss: 0.413827\n",
      "5030: accuracy:1.0 loss: 0.000132557\n",
      "5040: accuracy:1.0 loss: 0.00336818\n",
      "5050: accuracy:1.0 loss: 0.00194321\n",
      "5050: ********* epoch 9 ********* test accuracy:0.9914 test loss: 5.28509\n",
      "5060: accuracy:1.0 loss: 0.0783803\n",
      "5070: accuracy:1.0 loss: 0.0702338\n",
      "5080: accuracy:1.0 loss: 0.0128468\n",
      "5090: accuracy:1.0 loss: 0.000195608\n",
      "5100: accuracy:1.0 loss: 0.0277916\n",
      "5100: ********* epoch 9 ********* test accuracy:0.9906 test loss: 5.48033\n",
      "5110: accuracy:1.0 loss: 0.00590449\n",
      "5120: accuracy:1.0 loss: 0.00127191\n",
      "5130: accuracy:1.0 loss: 0.0211711\n",
      "5140: accuracy:1.0 loss: 0.0150431\n",
      "5150: accuracy:1.0 loss: 0.000123498\n",
      "5150: ********* epoch 9 ********* test accuracy:0.9904 test loss: 5.36041\n",
      "5160: accuracy:1.0 loss: 0.00895909\n",
      "5170: accuracy:1.0 loss: 0.0601359\n",
      "5180: accuracy:1.0 loss: 0.00221054\n",
      "5190: accuracy:1.0 loss: 0.0126991\n",
      "5200: accuracy:1.0 loss: 0.00232961\n",
      "5200: ********* epoch 9 ********* test accuracy:0.991 test loss: 5.60334\n",
      "5210: accuracy:1.0 loss: 0.00205929\n",
      "5220: accuracy:1.0 loss: 0.00312273\n",
      "5230: accuracy:1.0 loss: 0.00226173\n",
      "5240: accuracy:1.0 loss: 1.0252e-05\n",
      "5250: accuracy:1.0 loss: 2.88485e-05\n",
      "5250: ********* epoch 9 ********* test accuracy:0.9907 test loss: 5.0633\n",
      "5260: accuracy:1.0 loss: 0.00648511\n",
      "5270: accuracy:1.0 loss: 0.00174534\n",
      "5280: accuracy:1.0 loss: 0.0304465\n",
      "5290: accuracy:1.0 loss: 0.00103464\n",
      "5300: accuracy:1.0 loss: 0.460145\n",
      "5300: ********* epoch 9 ********* test accuracy:0.9912 test loss: 5.0573\n",
      "5310: accuracy:1.0 loss: 0.00187466\n",
      "5320: accuracy:1.0 loss: 0.301683\n",
      "5330: accuracy:1.0 loss: 8.02252e-05\n",
      "5340: accuracy:1.0 loss: 0.0322879\n",
      "5350: accuracy:1.0 loss: 0.0562954\n",
      "5350: ********* epoch 9 ********* test accuracy:0.9908 test loss: 5.05814\n",
      "5360: accuracy:1.0 loss: 0.236908\n",
      "5370: accuracy:1.0 loss: 0.0337014\n",
      "5380: accuracy:1.0 loss: 0.00179524\n",
      "5390: accuracy:1.0 loss: 1.46627e-05\n",
      "5400: accuracy:1.0 loss: 0.00795682\n",
      "5400: ********* epoch 10 ********* test accuracy:0.9916 test loss: 4.74593\n",
      "5410: accuracy:1.0 loss: 0.0248781\n",
      "5420: accuracy:1.0 loss: 0.0374309\n",
      "5430: accuracy:1.0 loss: 1.93119e-05\n",
      "5440: accuracy:1.0 loss: 0.00238476\n",
      "5450: accuracy:1.0 loss: 0.00293052\n",
      "5450: ********* epoch 10 ********* test accuracy:0.9915 test loss: 5.02278\n",
      "5460: accuracy:1.0 loss: 0.0192714\n",
      "5470: accuracy:1.0 loss: 0.043327\n",
      "5480: accuracy:1.0 loss: 0.00226453\n",
      "5490: accuracy:1.0 loss: 0.000994256\n",
      "5500: accuracy:1.0 loss: 9.36965e-05\n",
      "5500: ********* epoch 10 ********* test accuracy:0.9914 test loss: 4.95773\n",
      "5510: accuracy:1.0 loss: 0.0264262\n",
      "5520: accuracy:1.0 loss: 0.000646885\n",
      "5530: accuracy:1.0 loss: 0.00158441\n",
      "5540: accuracy:1.0 loss: 0.000868914\n",
      "5550: accuracy:1.0 loss: 0.000328876\n",
      "5550: ********* epoch 10 ********* test accuracy:0.9914 test loss: 4.99216\n",
      "5560: accuracy:1.0 loss: 0.0023117\n",
      "5570: accuracy:1.0 loss: 0.00729301\n",
      "5580: accuracy:1.0 loss: 0.123759\n",
      "5590: accuracy:1.0 loss: 0.0100595\n",
      "5600: accuracy:1.0 loss: 0.0352138\n",
      "5600: ********* epoch 10 ********* test accuracy:0.991 test loss: 5.22435\n",
      "5610: accuracy:1.0 loss: 0.00609772\n",
      "5620: accuracy:1.0 loss: 2.58683e-05\n",
      "5630: accuracy:1.0 loss: 0.0012078\n",
      "5640: accuracy:1.0 loss: 0.0121029\n",
      "5650: accuracy:1.0 loss: 0.000303468\n",
      "5650: ********* epoch 10 ********* test accuracy:0.9911 test loss: 5.22963\n",
      "5660: accuracy:1.0 loss: 0.00317687\n",
      "5670: accuracy:1.0 loss: 0.00245608\n",
      "5680: accuracy:1.0 loss: 0.00123609\n",
      "5690: accuracy:1.0 loss: 0.000417204\n",
      "5700: accuracy:1.0 loss: 0.000894333\n",
      "5700: ********* epoch 10 ********* test accuracy:0.991 test loss: 5.45117\n",
      "5710: accuracy:1.0 loss: 0.000163074\n",
      "5720: accuracy:1.0 loss: 0.00812851\n",
      "5730: accuracy:1.0 loss: 0.107291\n",
      "5740: accuracy:1.0 loss: 0.00493944\n",
      "5750: accuracy:1.0 loss: 0.00295706\n",
      "5750: ********* epoch 10 ********* test accuracy:0.9914 test loss: 5.12737\n",
      "5760: accuracy:1.0 loss: 0.000945341\n",
      "5770: accuracy:1.0 loss: 6.66373e-05\n",
      "5780: accuracy:1.0 loss: 0.000232553\n",
      "5790: accuracy:1.0 loss: 0.467388\n",
      "5800: accuracy:1.0 loss: 2.83717e-05\n",
      "5800: ********* epoch 10 ********* test accuracy:0.991 test loss: 5.41801\n",
      "5810: accuracy:1.0 loss: 0.00146561\n",
      "5820: accuracy:1.0 loss: 0.0235008\n",
      "5830: accuracy:1.0 loss: 0.000608243\n",
      "5840: accuracy:1.0 loss: 1.60932e-05\n",
      "5850: accuracy:1.0 loss: 6.85446e-05\n",
      "5850: ********* epoch 10 ********* test accuracy:0.9906 test loss: 5.46844\n",
      "5860: accuracy:1.0 loss: 0.0458671\n",
      "5870: accuracy:1.0 loss: 0.0532394\n",
      "5880: accuracy:1.0 loss: 0.00124065\n",
      "5890: accuracy:1.0 loss: 0.0368128\n",
      "5900: accuracy:1.0 loss: 0.00225311\n",
      "5900: ********* epoch 10 ********* test accuracy:0.9908 test loss: 5.28076\n",
      "5910: accuracy:1.0 loss: 0.0223921\n",
      "5920: accuracy:1.0 loss: 0.00627207\n",
      "5930: accuracy:1.0 loss: 0.000134341\n",
      "5940: accuracy:1.0 loss: 0.225537\n",
      "5950: accuracy:1.0 loss: 0.00179059\n",
      "5950: ********* epoch 10 ********* test accuracy:0.991 test loss: 5.32993\n",
      "5960: accuracy:1.0 loss: 0.00534621\n",
      "5970: accuracy:1.0 loss: 0.00867502\n",
      "5980: accuracy:1.0 loss: 8.82147e-06\n",
      "5990: accuracy:1.0 loss: 0.00161969\n",
      "6000: accuracy:1.0 loss: 0.00491693\n",
      "6000: ********* epoch 11 ********* test accuracy:0.9904 test loss: 5.96099\n",
      "6010: accuracy:1.0 loss: 9.75086e-05\n",
      "6020: accuracy:1.0 loss: 4.80404e-05\n",
      "6030: accuracy:1.0 loss: 0.000166527\n",
      "6040: accuracy:1.0 loss: 0.000767637\n",
      "6050: accuracy:1.0 loss: 0.0102048\n",
      "6050: ********* epoch 11 ********* test accuracy:0.9914 test loss: 5.24397\n",
      "6060: accuracy:1.0 loss: 0.0047556\n",
      "6070: accuracy:1.0 loss: 0.0200794\n",
      "6080: accuracy:1.0 loss: 1.78814e-06\n",
      "6090: accuracy:1.0 loss: 0.0232289\n",
      "6100: accuracy:1.0 loss: 0.00278568\n",
      "6100: ********* epoch 11 ********* test accuracy:0.9912 test loss: 5.18641\n",
      "6110: accuracy:1.0 loss: 0.0107162\n",
      "6120: accuracy:1.0 loss: 0.00114033\n",
      "6130: accuracy:1.0 loss: 0.00106732\n",
      "6140: accuracy:1.0 loss: 0.00658843\n",
      "6150: accuracy:1.0 loss: 0.00222618\n",
      "6150: ********* epoch 11 ********* test accuracy:0.9914 test loss: 5.18803\n",
      "6160: accuracy:1.0 loss: 0.000664735\n",
      "6170: accuracy:0.99 loss: 2.80721\n",
      "6180: accuracy:1.0 loss: 0.00264966\n",
      "6190: accuracy:1.0 loss: 0.00030026\n",
      "6200: accuracy:1.0 loss: 0.000445993\n",
      "6200: ********* epoch 11 ********* test accuracy:0.9907 test loss: 5.70403\n",
      "6210: accuracy:1.0 loss: 0.0853328\n",
      "6220: accuracy:1.0 loss: 0.0709469\n",
      "6230: accuracy:1.0 loss: 0.00102563\n",
      "6240: accuracy:1.0 loss: 0.00029811\n",
      "6250: accuracy:1.0 loss: 0.0124597\n",
      "6250: ********* epoch 11 ********* test accuracy:0.9902 test loss: 5.26315\n",
      "6260: accuracy:1.0 loss: 0.00352268\n",
      "6270: accuracy:1.0 loss: 0.000123734\n",
      "6280: accuracy:1.0 loss: 0.00548453\n",
      "6290: accuracy:1.0 loss: 0.000895661\n",
      "6300: accuracy:1.0 loss: 0.155844\n",
      "6300: ********* epoch 11 ********* test accuracy:0.9909 test loss: 5.35552\n",
      "6310: accuracy:1.0 loss: 0.0134848\n",
      "6320: accuracy:1.0 loss: 4.08882e-05\n",
      "6330: accuracy:1.0 loss: 0.000246032\n",
      "6340: accuracy:1.0 loss: 0.000342231\n",
      "6350: accuracy:1.0 loss: 0.00359558\n",
      "6350: ********* epoch 11 ********* test accuracy:0.9913 test loss: 5.46529\n",
      "6360: accuracy:1.0 loss: 9.48892e-05\n",
      "6370: accuracy:1.0 loss: 0.0429134\n",
      "6380: accuracy:1.0 loss: 5.01859e-05\n",
      "6390: accuracy:1.0 loss: 0.039158\n",
      "6400: accuracy:1.0 loss: 0.00252895\n",
      "6400: ********* epoch 11 ********* test accuracy:0.9906 test loss: 5.69552\n",
      "6410: accuracy:1.0 loss: 0.000386576\n",
      "6420: accuracy:1.0 loss: 0.0206107\n",
      "6430: accuracy:1.0 loss: 0.000771824\n",
      "6440: accuracy:1.0 loss: 0.00330182\n",
      "6450: accuracy:1.0 loss: 0.000200501\n",
      "6450: ********* epoch 11 ********* test accuracy:0.9905 test loss: 5.52172\n",
      "6460: accuracy:1.0 loss: 0.00107299\n",
      "6470: accuracy:1.0 loss: 0.00398656\n",
      "6480: accuracy:1.0 loss: 0.000170578\n",
      "6490: accuracy:1.0 loss: 0.119568\n",
      "6500: accuracy:1.0 loss: 0.00205786\n",
      "6500: ********* epoch 11 ********* test accuracy:0.9909 test loss: 5.6288\n",
      "6510: accuracy:1.0 loss: 0.00162359\n",
      "6520: accuracy:1.0 loss: 0.000220517\n",
      "6530: accuracy:1.0 loss: 0.000305864\n",
      "6540: accuracy:1.0 loss: 0.0287276\n",
      "6550: accuracy:1.0 loss: 0.00102561\n",
      "6550: ********* epoch 11 ********* test accuracy:0.9909 test loss: 5.6855\n",
      "6560: accuracy:1.0 loss: 0.00202725\n",
      "6570: accuracy:1.0 loss: 0.0315029\n",
      "6580: accuracy:1.0 loss: 0.0168733\n",
      "6590: accuracy:1.0 loss: 0.000476168\n",
      "6600: accuracy:1.0 loss: 0.00409093\n",
      "6600: ********* epoch 12 ********* test accuracy:0.9913 test loss: 5.58139\n",
      "6610: accuracy:1.0 loss: 0.00246144\n",
      "6620: accuracy:1.0 loss: 0.000410033\n",
      "6630: accuracy:1.0 loss: 0.000446588\n",
      "6640: accuracy:1.0 loss: 6.98544e-05\n",
      "6650: accuracy:1.0 loss: 0.0064561\n",
      "6650: ********* epoch 12 ********* test accuracy:0.991 test loss: 5.65231\n",
      "6660: accuracy:1.0 loss: 0.000146982\n",
      "6670: accuracy:1.0 loss: 0.00113977\n",
      "6680: accuracy:1.0 loss: 0.0415848\n",
      "6690: accuracy:1.0 loss: 0.000693091\n",
      "6700: accuracy:1.0 loss: 0.00322429\n",
      "6700: ********* epoch 12 ********* test accuracy:0.9913 test loss: 5.88709\n",
      "6710: accuracy:1.0 loss: 0.000613283\n",
      "6720: accuracy:1.0 loss: 0.0240733\n",
      "6730: accuracy:1.0 loss: 0.000197525\n",
      "6740: accuracy:1.0 loss: 0.647268\n",
      "6750: accuracy:1.0 loss: 0.000118132\n",
      "6750: ********* epoch 12 ********* test accuracy:0.9911 test loss: 5.7662\n",
      "6760: accuracy:1.0 loss: 0.179112\n",
      "6770: accuracy:1.0 loss: 0.0941059\n",
      "6780: accuracy:1.0 loss: 0.00586623\n",
      "6790: accuracy:1.0 loss: 0.00431629\n",
      "6800: accuracy:1.0 loss: 7.74858e-06\n",
      "6800: ********* epoch 12 ********* test accuracy:0.9917 test loss: 6.09143\n",
      "6810: accuracy:1.0 loss: 0.00098134\n",
      "6820: accuracy:1.0 loss: 8.94053e-05\n",
      "6830: accuracy:1.0 loss: 5.48362e-06\n",
      "6840: accuracy:1.0 loss: 0.0181437\n",
      "6850: accuracy:1.0 loss: 0.000419806\n",
      "6850: ********* epoch 12 ********* test accuracy:0.9909 test loss: 5.89056\n",
      "6860: accuracy:1.0 loss: 0.64671\n",
      "6870: accuracy:1.0 loss: 0.000218491\n",
      "6880: accuracy:1.0 loss: 0.00211655\n",
      "6890: accuracy:1.0 loss: 0.00665594\n",
      "6900: accuracy:1.0 loss: 3.81469e-06\n",
      "6900: ********* epoch 12 ********* test accuracy:0.9912 test loss: 5.78903\n",
      "6910: accuracy:1.0 loss: 1.76429e-05\n",
      "6920: accuracy:1.0 loss: 0.000587933\n",
      "6930: accuracy:1.0 loss: 0.0876477\n",
      "6940: accuracy:1.0 loss: 0.000407787\n",
      "6950: accuracy:1.0 loss: 0.000251622\n",
      "6950: ********* epoch 12 ********* test accuracy:0.9913 test loss: 5.67948\n",
      "6960: accuracy:1.0 loss: 0.000203236\n",
      "6970: accuracy:1.0 loss: 0.00185065\n",
      "6980: accuracy:1.0 loss: 0.00312566\n",
      "6990: accuracy:1.0 loss: 0.000453849\n",
      "7000: accuracy:1.0 loss: 0.000351279\n",
      "7000: ********* epoch 12 ********* test accuracy:0.9912 test loss: 5.78182\n",
      "7010: accuracy:1.0 loss: 0.000257958\n",
      "7020: accuracy:1.0 loss: 4.75636e-05\n",
      "7030: accuracy:1.0 loss: 0.00205332\n",
      "7040: accuracy:1.0 loss: 3.08749e-05\n",
      "7050: accuracy:1.0 loss: 0.00046951\n",
      "7050: ********* epoch 12 ********* test accuracy:0.9913 test loss: 5.79843\n",
      "7060: accuracy:1.0 loss: 0.0024689\n",
      "7070: accuracy:1.0 loss: 0.00171202\n",
      "7080: accuracy:1.0 loss: 0.000413264\n",
      "7090: accuracy:1.0 loss: 0.00618242\n",
      "7100: accuracy:1.0 loss: 0.00178305\n",
      "7100: ********* epoch 12 ********* test accuracy:0.9914 test loss: 6.02605\n",
      "7110: accuracy:1.0 loss: 0.00465517\n",
      "7120: accuracy:1.0 loss: 9.03583e-05\n",
      "7130: accuracy:1.0 loss: 0.00350535\n",
      "7140: accuracy:1.0 loss: 8.36821e-05\n",
      "7150: accuracy:1.0 loss: 0.0252887\n",
      "7150: ********* epoch 12 ********* test accuracy:0.9912 test loss: 6.06071\n",
      "7160: accuracy:1.0 loss: 0.000953701\n",
      "7170: accuracy:1.0 loss: 0.000117176\n",
      "7180: accuracy:1.0 loss: 0.000116585\n",
      "7190: accuracy:1.0 loss: 0.00105969\n",
      "7200: accuracy:1.0 loss: 0.00142488\n",
      "7200: ********* epoch 13 ********* test accuracy:0.9912 test loss: 6.07385\n",
      "7210: accuracy:1.0 loss: 0.00128112\n",
      "7220: accuracy:1.0 loss: 0.00118917\n",
      "7230: accuracy:1.0 loss: 0.00368111\n",
      "7240: accuracy:1.0 loss: 0.000183932\n",
      "7250: accuracy:1.0 loss: 0.0001322\n",
      "7250: ********* epoch 13 ********* test accuracy:0.9911 test loss: 6.1548\n",
      "7260: accuracy:1.0 loss: 0.000500015\n",
      "7270: accuracy:1.0 loss: 0.00046076\n",
      "7280: accuracy:1.0 loss: 0.00225895\n",
      "7290: accuracy:1.0 loss: 0.0341633\n",
      "7300: accuracy:1.0 loss: 2.61066e-05\n",
      "7300: ********* epoch 13 ********* test accuracy:0.9913 test loss: 6.06037\n",
      "7310: accuracy:1.0 loss: 7.31929e-05\n",
      "7320: accuracy:1.0 loss: 0.000518374\n",
      "7330: accuracy:1.0 loss: 0.0230834\n",
      "7340: accuracy:1.0 loss: 0.00172192\n",
      "7350: accuracy:1.0 loss: 0.00110937\n",
      "7350: ********* epoch 13 ********* test accuracy:0.9913 test loss: 6.22987\n",
      "7360: accuracy:1.0 loss: 0.000651106\n",
      "7370: accuracy:1.0 loss: 0.000190369\n",
      "7380: accuracy:1.0 loss: 0.00797633\n",
      "7390: accuracy:1.0 loss: 0.011961\n",
      "7400: accuracy:1.0 loss: 6.44902e-05\n",
      "7400: ********* epoch 13 ********* test accuracy:0.9907 test loss: 6.4291\n",
      "7410: accuracy:1.0 loss: 0.00686439\n",
      "7420: accuracy:1.0 loss: 0.0145128\n",
      "7430: accuracy:1.0 loss: 3.0279e-05\n",
      "7440: accuracy:1.0 loss: 0.00175419\n",
      "7450: accuracy:1.0 loss: 0.0015089\n",
      "7450: ********* epoch 13 ********* test accuracy:0.9908 test loss: 6.03314\n",
      "7460: accuracy:1.0 loss: 0.000197044\n",
      "7470: accuracy:1.0 loss: 4.64916e-06\n",
      "7480: accuracy:1.0 loss: 3.30208e-05\n",
      "7490: accuracy:1.0 loss: 0.0117987\n",
      "7500: accuracy:1.0 loss: 0.000257475\n",
      "7500: ********* epoch 13 ********* test accuracy:0.9907 test loss: 6.07162\n",
      "7510: accuracy:1.0 loss: 0.000440863\n",
      "7520: accuracy:1.0 loss: 3.82658e-05\n",
      "7530: accuracy:1.0 loss: 0.000649741\n",
      "7540: accuracy:1.0 loss: 0.000604331\n",
      "7550: accuracy:1.0 loss: 3.57628e-07\n",
      "7550: ********* epoch 13 ********* test accuracy:0.9906 test loss: 6.11513\n",
      "7560: accuracy:1.0 loss: 0.0124964\n",
      "7570: accuracy:1.0 loss: 5.11397e-05\n",
      "7580: accuracy:1.0 loss: 0.000267249\n",
      "7590: accuracy:1.0 loss: 0.000354231\n",
      "7600: accuracy:1.0 loss: 0.00573629\n",
      "7600: ********* epoch 13 ********* test accuracy:0.9907 test loss: 5.96447\n",
      "7610: accuracy:1.0 loss: 2.08614e-05\n",
      "7620: accuracy:1.0 loss: 8.3325e-05\n",
      "7630: accuracy:1.0 loss: 7.14041e-05\n",
      "7640: accuracy:1.0 loss: 6.62792e-05\n",
      "7650: accuracy:1.0 loss: 0.00422776\n",
      "7650: ********* epoch 13 ********* test accuracy:0.9904 test loss: 5.92915\n",
      "7660: accuracy:1.0 loss: 3.17094e-05\n",
      "7670: accuracy:1.0 loss: 1.71661e-05\n",
      "7680: accuracy:1.0 loss: 9.53634e-05\n",
      "7690: accuracy:1.0 loss: 1.90735e-06\n",
      "7700: accuracy:1.0 loss: 0.00237413\n",
      "7700: ********* epoch 13 ********* test accuracy:0.9907 test loss: 5.7739\n",
      "7710: accuracy:1.0 loss: 0.000608894\n",
      "7720: accuracy:1.0 loss: 0.00110567\n",
      "7730: accuracy:1.0 loss: 0.00019549\n",
      "7740: accuracy:1.0 loss: 1.43051e-06\n",
      "7750: accuracy:1.0 loss: 0.026584\n",
      "7750: ********* epoch 13 ********* test accuracy:0.9906 test loss: 5.60821\n",
      "7760: accuracy:1.0 loss: 0.029295\n",
      "7770: accuracy:1.0 loss: 1.0848e-05\n",
      "7780: accuracy:1.0 loss: 0.000435388\n",
      "7790: accuracy:1.0 loss: 5.9484e-05\n",
      "7800: accuracy:1.0 loss: 0.0227189\n",
      "7800: ********* epoch 14 ********* test accuracy:0.991 test loss: 5.63272\n",
      "7810: accuracy:1.0 loss: 0.00250702\n",
      "7820: accuracy:1.0 loss: 4.87556e-05\n",
      "7830: accuracy:1.0 loss: 0.000409063\n",
      "7840: accuracy:1.0 loss: 3.93388e-05\n"
     ]
    }
   ],
   "source": [
    "for i in range(4000,8000): \n",
    "    training_step(i, i % 50 == 0, i % 10 == 0)"
   ]
  },
  {
   "cell_type": "code",
   "execution_count": 78,
   "metadata": {
    "collapsed": false
   },
   "outputs": [
    {
     "data": {
      "image/png": "[encoded data removed]",
      "text/plain": [
       "<matplotlib.figure.Figure at 0x11a49a128>"
      ]
     },
     "metadata": {},
     "output_type": "display_data"
    }
   ],
   "source": [
    "plt.plot(list(zip(*test_score_log))[0],list(zip(*test_score_log))[1])\n",
    "plt.plot(list(zip(*train_score_log))[0],list(zip(*train_score_log))[1])\n",
    "plt.ylim(0.98,1)\n",
    "plt.show()"
   ]
  },
  {
   "cell_type": "code",
   "execution_count": 79,
   "metadata": {
    "collapsed": false
   },
   "outputs": [
    {
     "data": {
      "text/plain": [
       "0.99180001"
      ]
     },
     "execution_count": 79,
     "metadata": {},
     "output_type": "execute_result"
    }
   ],
   "source": [
    "sorted(list(zip(*test_score_log))[1])[-1]"
   ]
  },
  {
   "cell_type": "code",
   "execution_count": null,
   "metadata": {
    "collapsed": true
   },
   "outputs": [],
   "source": []
  }
 ],
 "metadata": {
  "anaconda-cloud": {},
  "kernelspec": {
   "display_name": "Python 3",
   "language": "python",
   "name": "python3"
  },
  "language_info": {
   "codemirror_mode": {
    "name": "ipython",
    "version": 3
   },
   "file_extension": ".py",
   "mimetype": "text/x-python",
   "name": "python",
   "nbconvert_exporter": "python",
   "pygments_lexer": "ipython3",
   "version": "3.5.2"
  }
 },
 "nbformat": 4,
 "nbformat_minor": 1
}
